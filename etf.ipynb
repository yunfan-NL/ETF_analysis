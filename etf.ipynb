{
 "cells": [
  {
   "cell_type": "code",
   "execution_count": 2,
   "source": [
    "from yahoo_fin.stock_info import *\r\n",
    "df_CNYPA = get_data('CNY.PA')\r\n",
    "print(df_CNYPA)"
   ],
   "outputs": [
    {
     "output_type": "stream",
     "name": "stdout",
     "text": [
      "              open    high     low   close  adjclose   volume  ticker\n",
      "2011-01-28  6.6166  6.6166  6.6166  6.6166    6.6166      0.0  CNY.PA\n",
      "2011-01-31  6.5962  6.5962  6.5962  6.5962    6.5962      0.0  CNY.PA\n",
      "2011-02-01  6.6031  6.6031  6.6031  6.6031    6.6031      0.0  CNY.PA\n",
      "2011-02-02     NaN     NaN     NaN     NaN       NaN      NaN  CNY.PA\n",
      "2011-02-03     NaN     NaN     NaN     NaN       NaN      NaN  CNY.PA\n",
      "...            ...     ...     ...     ...       ...      ...     ...\n",
      "2021-09-20     NaN     NaN     NaN     NaN       NaN      NaN  CNY.PA\n",
      "2021-09-21     NaN     NaN     NaN     NaN       NaN      NaN  CNY.PA\n",
      "2021-09-22     NaN     NaN     NaN     NaN       NaN      NaN  CNY.PA\n",
      "2021-09-23     NaN     NaN     NaN     NaN       NaN      NaN  CNY.PA\n",
      "2021-09-24  7.6500  7.6660  7.5800  7.6000    7.6000  52903.0  CNY.PA\n",
      "\n",
      "[2726 rows x 7 columns]\n"
     ]
    }
   ],
   "metadata": {}
  },
  {
   "cell_type": "code",
   "execution_count": 4,
   "source": [
    "1+1"
   ],
   "outputs": [
    {
     "output_type": "execute_result",
     "data": {
      "text/plain": [
       "2"
      ]
     },
     "metadata": {},
     "execution_count": 4
    }
   ],
   "metadata": {}
  },
  {
   "cell_type": "code",
   "execution_count": 3,
   "source": [
    "df_CNYPA"
   ],
   "outputs": [
    {
     "output_type": "execute_result",
     "data": {
      "text/html": [
       "<div>\n",
       "<style scoped>\n",
       "    .dataframe tbody tr th:only-of-type {\n",
       "        vertical-align: middle;\n",
       "    }\n",
       "\n",
       "    .dataframe tbody tr th {\n",
       "        vertical-align: top;\n",
       "    }\n",
       "\n",
       "    .dataframe thead th {\n",
       "        text-align: right;\n",
       "    }\n",
       "</style>\n",
       "<table border=\"1\" class=\"dataframe\">\n",
       "  <thead>\n",
       "    <tr style=\"text-align: right;\">\n",
       "      <th></th>\n",
       "      <th>open</th>\n",
       "      <th>high</th>\n",
       "      <th>low</th>\n",
       "      <th>close</th>\n",
       "      <th>adjclose</th>\n",
       "      <th>volume</th>\n",
       "      <th>ticker</th>\n",
       "    </tr>\n",
       "  </thead>\n",
       "  <tbody>\n",
       "    <tr>\n",
       "      <th>2011-01-28</th>\n",
       "      <td>6.6166</td>\n",
       "      <td>6.6166</td>\n",
       "      <td>6.6166</td>\n",
       "      <td>6.6166</td>\n",
       "      <td>6.6166</td>\n",
       "      <td>0.0</td>\n",
       "      <td>CNY.PA</td>\n",
       "    </tr>\n",
       "    <tr>\n",
       "      <th>2011-01-31</th>\n",
       "      <td>6.5962</td>\n",
       "      <td>6.5962</td>\n",
       "      <td>6.5962</td>\n",
       "      <td>6.5962</td>\n",
       "      <td>6.5962</td>\n",
       "      <td>0.0</td>\n",
       "      <td>CNY.PA</td>\n",
       "    </tr>\n",
       "    <tr>\n",
       "      <th>2011-02-01</th>\n",
       "      <td>6.6031</td>\n",
       "      <td>6.6031</td>\n",
       "      <td>6.6031</td>\n",
       "      <td>6.6031</td>\n",
       "      <td>6.6031</td>\n",
       "      <td>0.0</td>\n",
       "      <td>CNY.PA</td>\n",
       "    </tr>\n",
       "    <tr>\n",
       "      <th>2011-02-02</th>\n",
       "      <td>NaN</td>\n",
       "      <td>NaN</td>\n",
       "      <td>NaN</td>\n",
       "      <td>NaN</td>\n",
       "      <td>NaN</td>\n",
       "      <td>NaN</td>\n",
       "      <td>CNY.PA</td>\n",
       "    </tr>\n",
       "    <tr>\n",
       "      <th>2011-02-03</th>\n",
       "      <td>NaN</td>\n",
       "      <td>NaN</td>\n",
       "      <td>NaN</td>\n",
       "      <td>NaN</td>\n",
       "      <td>NaN</td>\n",
       "      <td>NaN</td>\n",
       "      <td>CNY.PA</td>\n",
       "    </tr>\n",
       "    <tr>\n",
       "      <th>...</th>\n",
       "      <td>...</td>\n",
       "      <td>...</td>\n",
       "      <td>...</td>\n",
       "      <td>...</td>\n",
       "      <td>...</td>\n",
       "      <td>...</td>\n",
       "      <td>...</td>\n",
       "    </tr>\n",
       "    <tr>\n",
       "      <th>2021-09-20</th>\n",
       "      <td>NaN</td>\n",
       "      <td>NaN</td>\n",
       "      <td>NaN</td>\n",
       "      <td>NaN</td>\n",
       "      <td>NaN</td>\n",
       "      <td>NaN</td>\n",
       "      <td>CNY.PA</td>\n",
       "    </tr>\n",
       "    <tr>\n",
       "      <th>2021-09-21</th>\n",
       "      <td>NaN</td>\n",
       "      <td>NaN</td>\n",
       "      <td>NaN</td>\n",
       "      <td>NaN</td>\n",
       "      <td>NaN</td>\n",
       "      <td>NaN</td>\n",
       "      <td>CNY.PA</td>\n",
       "    </tr>\n",
       "    <tr>\n",
       "      <th>2021-09-22</th>\n",
       "      <td>NaN</td>\n",
       "      <td>NaN</td>\n",
       "      <td>NaN</td>\n",
       "      <td>NaN</td>\n",
       "      <td>NaN</td>\n",
       "      <td>NaN</td>\n",
       "      <td>CNY.PA</td>\n",
       "    </tr>\n",
       "    <tr>\n",
       "      <th>2021-09-23</th>\n",
       "      <td>NaN</td>\n",
       "      <td>NaN</td>\n",
       "      <td>NaN</td>\n",
       "      <td>NaN</td>\n",
       "      <td>NaN</td>\n",
       "      <td>NaN</td>\n",
       "      <td>CNY.PA</td>\n",
       "    </tr>\n",
       "    <tr>\n",
       "      <th>2021-09-24</th>\n",
       "      <td>7.6500</td>\n",
       "      <td>7.6660</td>\n",
       "      <td>7.5800</td>\n",
       "      <td>7.6000</td>\n",
       "      <td>7.6000</td>\n",
       "      <td>52903.0</td>\n",
       "      <td>CNY.PA</td>\n",
       "    </tr>\n",
       "  </tbody>\n",
       "</table>\n",
       "<p>2726 rows × 7 columns</p>\n",
       "</div>"
      ],
      "text/plain": [
       "              open    high     low   close  adjclose   volume  ticker\n",
       "2011-01-28  6.6166  6.6166  6.6166  6.6166    6.6166      0.0  CNY.PA\n",
       "2011-01-31  6.5962  6.5962  6.5962  6.5962    6.5962      0.0  CNY.PA\n",
       "2011-02-01  6.6031  6.6031  6.6031  6.6031    6.6031      0.0  CNY.PA\n",
       "2011-02-02     NaN     NaN     NaN     NaN       NaN      NaN  CNY.PA\n",
       "2011-02-03     NaN     NaN     NaN     NaN       NaN      NaN  CNY.PA\n",
       "...            ...     ...     ...     ...       ...      ...     ...\n",
       "2021-09-20     NaN     NaN     NaN     NaN       NaN      NaN  CNY.PA\n",
       "2021-09-21     NaN     NaN     NaN     NaN       NaN      NaN  CNY.PA\n",
       "2021-09-22     NaN     NaN     NaN     NaN       NaN      NaN  CNY.PA\n",
       "2021-09-23     NaN     NaN     NaN     NaN       NaN      NaN  CNY.PA\n",
       "2021-09-24  7.6500  7.6660  7.5800  7.6000    7.6000  52903.0  CNY.PA\n",
       "\n",
       "[2726 rows x 7 columns]"
      ]
     },
     "metadata": {},
     "execution_count": 3
    }
   ],
   "metadata": {}
  },
  {
   "cell_type": "code",
   "execution_count": null,
   "source": [],
   "outputs": [],
   "metadata": {}
  }
 ],
 "metadata": {
  "orig_nbformat": 4,
  "language_info": {
   "name": "python",
   "version": "3.8.11",
   "mimetype": "text/x-python",
   "codemirror_mode": {
    "name": "ipython",
    "version": 3
   },
   "pygments_lexer": "ipython3",
   "nbconvert_exporter": "python",
   "file_extension": ".py"
  },
  "kernelspec": {
   "name": "python3",
   "display_name": "Python 3.8.11 64-bit ('etfAnalysis': conda)"
  },
  "interpreter": {
   "hash": "3b9a7f5150d4e81f463a1b5c9d31f82135d7f14da619c2c5e54df0a9fc5a6c87"
  }
 },
 "nbformat": 4,
 "nbformat_minor": 2
}